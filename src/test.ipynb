{
 "cells": [
  {
   "cell_type": "code",
   "execution_count": 2,
   "metadata": {},
   "outputs": [],
   "source": [
    "import requests"
   ]
  },
  {
   "cell_type": "code",
   "execution_count": 3,
   "metadata": {},
   "outputs": [],
   "source": [
    "base_currnecy = 'USD'"
   ]
  },
  {
   "cell_type": "code",
   "execution_count": 8,
   "metadata": {},
   "outputs": [],
   "source": [
    "import currencies"
   ]
  },
  {
   "cell_type": "code",
   "execution_count": 10,
   "metadata": {},
   "outputs": [
    {
     "data": {
      "text/plain": [
       "dict_keys(['AED', 'AFN', 'ALL', 'AMD', 'ANG', 'AOA', 'ARS', 'AUD', 'AWG', 'AZN', 'BAM', 'BBD', 'BDT', 'BGN', 'BHD', 'BND', 'BOB', 'BRL', 'BSD', 'BTN', 'BWP', 'BYR', 'BZD', 'CAD', 'CHF', 'CLP', 'CNY', 'COP', 'CRC', 'CZK', 'DKK', 'DOP', 'DZD', 'EGP', 'ETB', 'EUR', 'FJD', 'GBP', 'GEL', 'GHS', 'GMD', 'GTQ', 'GYD', 'HKD', 'HNL', 'HRK', 'HUF', 'IDR', 'ILS', 'INR', 'ISK', 'JEP', 'JMD', 'JOD', 'JPY', 'KES', 'KGS', 'KHR', 'KRW', 'KWD', 'KYD', 'KZT', 'LBP', 'LKR', 'LTL', 'LVL', 'MAD', 'MDL', 'MGA', 'MKD', 'MMK', 'MNT', 'MOP', 'MUR', 'MVR', 'MXN', 'MYR', 'MZN', 'NAD', 'NGN', 'NIO', 'NOK', 'NPR', 'NZD', 'OMR', 'PEN', 'PGK', 'PHP', 'PKR', 'PLN', 'PYG', 'QAR', 'RON', 'RSD', 'RUB', 'RWF', 'SAR', 'SCR', 'SEK', 'SGD', 'STD', 'SYP', 'THB', 'TND', 'TRY', 'TTD', 'TWD', 'TZS', 'UAH', 'UGX', 'USD', 'UYU', 'VEF', 'VND', 'VUV', 'WST', 'XAF', 'XBT', 'XCD', 'XOF', 'XPF', 'ZAR', 'ZMW'])"
      ]
     },
     "execution_count": 10,
     "metadata": {},
     "output_type": "execute_result"
    }
   ],
   "source": [
    "currencies.MONEY_FORMATS.keys()"
   ]
  },
  {
   "cell_type": "code",
   "execution_count": 15,
   "metadata": {},
   "outputs": [],
   "source": [
    "url = f\"https://v6.exchangerate-api.com/v6/597b977f4e7a3ca4a8a633e1/latest/{base_currnecy}\"\n",
    "response = requests.get(url)\n",
    "list_of_currnecies = list(response.json()['conversion_rates'].keys())"
   ]
  },
  {
   "cell_type": "code",
   "execution_count": 16,
   "metadata": {},
   "outputs": [
    {
     "data": {
      "text/plain": [
       "['USD',\n",
       " 'AED',\n",
       " 'AFN',\n",
       " 'ALL',\n",
       " 'AMD',\n",
       " 'ANG',\n",
       " 'AOA',\n",
       " 'ARS',\n",
       " 'AUD',\n",
       " 'AWG',\n",
       " 'AZN',\n",
       " 'BAM',\n",
       " 'BBD',\n",
       " 'BDT',\n",
       " 'BGN',\n",
       " 'BHD',\n",
       " 'BIF',\n",
       " 'BMD',\n",
       " 'BND',\n",
       " 'BOB',\n",
       " 'BRL',\n",
       " 'BSD',\n",
       " 'BTN',\n",
       " 'BWP',\n",
       " 'BYN',\n",
       " 'BZD',\n",
       " 'CAD',\n",
       " 'CDF',\n",
       " 'CHF',\n",
       " 'CLP',\n",
       " 'CNY',\n",
       " 'COP',\n",
       " 'CRC',\n",
       " 'CUP',\n",
       " 'CVE',\n",
       " 'CZK',\n",
       " 'DJF',\n",
       " 'DKK',\n",
       " 'DOP',\n",
       " 'DZD',\n",
       " 'EGP',\n",
       " 'ERN',\n",
       " 'ETB',\n",
       " 'EUR',\n",
       " 'FJD',\n",
       " 'FKP',\n",
       " 'FOK',\n",
       " 'GBP',\n",
       " 'GEL',\n",
       " 'GGP',\n",
       " 'GHS',\n",
       " 'GIP',\n",
       " 'GMD',\n",
       " 'GNF',\n",
       " 'GTQ',\n",
       " 'GYD',\n",
       " 'HKD',\n",
       " 'HNL',\n",
       " 'HRK',\n",
       " 'HTG',\n",
       " 'HUF',\n",
       " 'IDR',\n",
       " 'ILS',\n",
       " 'IMP',\n",
       " 'INR',\n",
       " 'IQD',\n",
       " 'IRR',\n",
       " 'ISK',\n",
       " 'JEP',\n",
       " 'JMD',\n",
       " 'JOD',\n",
       " 'JPY',\n",
       " 'KES',\n",
       " 'KGS',\n",
       " 'KHR',\n",
       " 'KID',\n",
       " 'KMF',\n",
       " 'KRW',\n",
       " 'KWD',\n",
       " 'KYD',\n",
       " 'KZT',\n",
       " 'LAK',\n",
       " 'LBP',\n",
       " 'LKR',\n",
       " 'LRD',\n",
       " 'LSL',\n",
       " 'LYD',\n",
       " 'MAD',\n",
       " 'MDL',\n",
       " 'MGA',\n",
       " 'MKD',\n",
       " 'MMK',\n",
       " 'MNT',\n",
       " 'MOP',\n",
       " 'MRU',\n",
       " 'MUR',\n",
       " 'MVR',\n",
       " 'MWK',\n",
       " 'MXN',\n",
       " 'MYR',\n",
       " 'MZN',\n",
       " 'NAD',\n",
       " 'NGN',\n",
       " 'NIO',\n",
       " 'NOK',\n",
       " 'NPR',\n",
       " 'NZD',\n",
       " 'OMR',\n",
       " 'PAB',\n",
       " 'PEN',\n",
       " 'PGK',\n",
       " 'PHP',\n",
       " 'PKR',\n",
       " 'PLN',\n",
       " 'PYG',\n",
       " 'QAR',\n",
       " 'RON',\n",
       " 'RSD',\n",
       " 'RUB',\n",
       " 'RWF',\n",
       " 'SAR',\n",
       " 'SBD',\n",
       " 'SCR',\n",
       " 'SDG',\n",
       " 'SEK',\n",
       " 'SGD',\n",
       " 'SHP',\n",
       " 'SLE',\n",
       " 'SLL',\n",
       " 'SOS',\n",
       " 'SRD',\n",
       " 'SSP',\n",
       " 'STN',\n",
       " 'SYP',\n",
       " 'SZL',\n",
       " 'THB',\n",
       " 'TJS',\n",
       " 'TMT',\n",
       " 'TND',\n",
       " 'TOP',\n",
       " 'TRY',\n",
       " 'TTD',\n",
       " 'TVD',\n",
       " 'TWD',\n",
       " 'TZS',\n",
       " 'UAH',\n",
       " 'UGX',\n",
       " 'UYU',\n",
       " 'UZS',\n",
       " 'VES',\n",
       " 'VND',\n",
       " 'VUV',\n",
       " 'WST',\n",
       " 'XAF',\n",
       " 'XCD',\n",
       " 'XDR',\n",
       " 'XOF',\n",
       " 'XPF',\n",
       " 'YER',\n",
       " 'ZAR',\n",
       " 'ZMW',\n",
       " 'ZWL']"
      ]
     },
     "execution_count": 16,
     "metadata": {},
     "output_type": "execute_result"
    }
   ],
   "source": [
    "list_of_currnecies"
   ]
  },
  {
   "cell_type": "code",
   "execution_count": 19,
   "metadata": {},
   "outputs": [
    {
     "data": {
      "text/plain": [
       "3.6725"
      ]
     },
     "execution_count": 19,
     "metadata": {},
     "output_type": "execute_result"
    }
   ],
   "source": []
  },
  {
   "cell_type": "code",
   "execution_count": 22,
   "metadata": {},
   "outputs": [],
   "source": [
    "def get_exchange_rate(base_currnecy, target_currency):\n",
    "    url = f\"https://v6.exchangerate-api.com/v6/597b977f4e7a3ca4a8a633e1/latest/{base_currnecy}\"\n",
    "    response = requests.get(url)\n",
    "    rate = response.json()['conversion_rates'][target_currency]\n",
    "    return rate"
   ]
  },
  {
   "cell_type": "code",
   "execution_count": 23,
   "metadata": {},
   "outputs": [
    {
     "data": {
      "text/plain": [
       "1.3667"
      ]
     },
     "execution_count": 23,
     "metadata": {},
     "output_type": "execute_result"
    }
   ],
   "source": [
    "get_exchange_rate('USD', 'CAD')"
   ]
  },
  {
   "cell_type": "code",
   "execution_count": 25,
   "metadata": {},
   "outputs": [],
   "source": [
    "def convert_currency(amount, exchange_rate):\n",
    "    return amount * exchange_rate"
   ]
  },
  {
   "cell_type": "code",
   "execution_count": 26,
   "metadata": {},
   "outputs": [
    {
     "name": "stdout",
     "output_type": "stream",
     "text": [
      "183.625\n"
     ]
    }
   ],
   "source": [
    "if __name__ == \"__main__\":\n",
    "    base_currnecy = input('Enter base currency: ')\n",
    "    target_currency = input('Enter target currency: ')\n",
    "    amount = float(input('Enter amount'))\n",
    "    exchange_rate = get_exchange_rate(base_currnecy, target_currency)\n",
    "    result = convert_currency(amount, exchange_rate)\n",
    "    print(result)"
   ]
  },
  {
   "cell_type": "code",
   "execution_count": null,
   "metadata": {},
   "outputs": [],
   "source": []
  }
 ],
 "metadata": {
  "kernelspec": {
   "display_name": "py311",
   "language": "python",
   "name": "python3"
  },
  "language_info": {
   "codemirror_mode": {
    "name": "ipython",
    "version": 3
   },
   "file_extension": ".py",
   "mimetype": "text/x-python",
   "name": "python",
   "nbconvert_exporter": "python",
   "pygments_lexer": "ipython3",
   "version": "3.12.0"
  }
 },
 "nbformat": 4,
 "nbformat_minor": 2
}
